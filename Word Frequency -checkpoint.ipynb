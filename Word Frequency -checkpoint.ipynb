{
 "cells": [
  {
   "cell_type": "code",
   "execution_count": 24,
   "metadata": {},
   "outputs": [
    {
     "data": {
      "text/html": [
       "<div>\n",
       "<style scoped>\n",
       "    .dataframe tbody tr th:only-of-type {\n",
       "        vertical-align: middle;\n",
       "    }\n",
       "\n",
       "    .dataframe tbody tr th {\n",
       "        vertical-align: top;\n",
       "    }\n",
       "\n",
       "    .dataframe thead th {\n",
       "        text-align: right;\n",
       "    }\n",
       "</style>\n",
       "<table border=\"1\" class=\"dataframe\">\n",
       "  <thead>\n",
       "    <tr style=\"text-align: right;\">\n",
       "      <th></th>\n",
       "      <th>Review Text</th>\n",
       "    </tr>\n",
       "  </thead>\n",
       "  <tbody>\n",
       "    <tr>\n",
       "      <th>0</th>\n",
       "      <td>Absolutely wonderful - silky and sexy and comf...</td>\n",
       "    </tr>\n",
       "    <tr>\n",
       "      <th>1</th>\n",
       "      <td>Love this dress!  it's sooo pretty.  i happene...</td>\n",
       "    </tr>\n",
       "    <tr>\n",
       "      <th>2</th>\n",
       "      <td>I had such high hopes for this dress and reall...</td>\n",
       "    </tr>\n",
       "    <tr>\n",
       "      <th>3</th>\n",
       "      <td>I love, love, love this jumpsuit. it's fun, fl...</td>\n",
       "    </tr>\n",
       "    <tr>\n",
       "      <th>4</th>\n",
       "      <td>This shirt is very flattering to all due to th...</td>\n",
       "    </tr>\n",
       "  </tbody>\n",
       "</table>\n",
       "</div>"
      ],
      "text/plain": [
       "                                         Review Text\n",
       "0  Absolutely wonderful - silky and sexy and comf...\n",
       "1  Love this dress!  it's sooo pretty.  i happene...\n",
       "2  I had such high hopes for this dress and reall...\n",
       "3  I love, love, love this jumpsuit. it's fun, fl...\n",
       "4  This shirt is very flattering to all due to th..."
      ]
     },
     "execution_count": 24,
     "metadata": {},
     "output_type": "execute_result"
    }
   ],
   "source": [
    "import pandas as pd\n",
    "from nltk import FreqDist\n",
    "import nltk\n",
    "from nltk.sentiment.vader import SentimentIntensityAnalyzer \n",
    "# read file\n",
    "\n",
    "df=pd.read_csv(r\"C:\\Users\\mashu\\Desktop\\STUDY RESOURCES\\Text Analysis\\Project\\Reviews.csv\",encoding='utf-8',usecols = ['Review Text'], sep = ',')\n",
    "df.head()\n",
    "#import csv\n",
    "#with open('C:\\Users\\mashu\\Desktop\\STUDY RESOURCES\\Text Analysis\\Project\\Reviews.csv','r') as csvfile:\n",
    "    #reader = csv.reader(csvfile)\n",
    "    #text = [row[6] for row in reader]"
   ]
  },
  {
   "cell_type": "code",
   "execution_count": 25,
   "metadata": {},
   "outputs": [
    {
     "data": {
      "text/plain": [
       "0    Absolutely wonderful - silky and sexy and comf...\n",
       "1    Love this dress!  it's sooo pretty.  i happene...\n",
       "2    I had such high hopes for this dress and reall...\n",
       "3    I love, love, love this jumpsuit. it's fun, fl...\n",
       "4    This shirt is very flattering to all due to th...\n",
       "Name: Review Text, dtype: object"
      ]
     },
     "execution_count": 25,
     "metadata": {},
     "output_type": "execute_result"
    }
   ],
   "source": [
    "text=df.loc[:,\"Review Text\"]\n",
    "text.head()"
   ]
  },
  {
   "cell_type": "code",
   "execution_count": 26,
   "metadata": {},
   "outputs": [],
   "source": [
    "#text_str = ''.join(text) \n",
    "reviews = df['Review Text'].tolist()\n",
    "reviews\n",
    "#text_str = str(text)\n",
    "#text_str\n",
    "import string\n",
    "\n",
    "new_reviews = []\n",
    "for review in reviews: \n",
    "    review = str(review)\n",
    "    for ch in review: \n",
    "        if ch in string.punctuation:\n",
    "            review = review.replace(ch,'') #replace punctuation with nothing\n",
    "        if ch == '\\r':\n",
    "            review = review.replace(ch,' ') #replace \\r with space\n",
    "    new_reviews.append(review) \n",
    "text_str = ''.join(new_reviews) "
   ]
  },
  {
   "cell_type": "code",
   "execution_count": 27,
   "metadata": {},
   "outputs": [],
   "source": [
    "text=text_str.replace('\\n','')\n",
    "tokens=nltk.word_tokenize(text) \n",
    "#change all tokens into lower case \n",
    "words1 = [w.lower() for w in tokens]   #list comprehension \n",
    "#only keep text words, no numbers \n",
    "words2 = [w for w in words1 if w.isalpha()]\n",
    "#encode the raw token list by utf-8 if your python version is 2.7\n",
    "words3 = [w.encode('utf8') for w in words2]"
   ]
  },
  {
   "cell_type": "code",
   "execution_count": 28,
   "metadata": {},
   "outputs": [],
   "source": [
    "words1 = []\n",
    "for w in tokens: \n",
    "    words1.append(w.lower())"
   ]
  },
  {
   "cell_type": "code",
   "execution_count": 29,
   "metadata": {},
   "outputs": [],
   "source": [
    "from nltk.corpus import stopwords\n",
    "\n",
    "stopwords = stopwords.words('english') #use the NLTK stopwords\n"
   ]
  },
  {
   "cell_type": "code",
   "execution_count": 30,
   "metadata": {},
   "outputs": [
    {
     "data": {
      "text/plain": [
       "[('dress', 10137),\n",
       " ('size', 8416),\n",
       " ('love', 7734),\n",
       " ('top', 7098),\n",
       " ('fit', 7040),\n",
       " ('like', 6886),\n",
       " ('wear', 6318),\n",
       " ('great', 5587),\n",
       " ('im', 5489),\n",
       " ('would', 4989),\n",
       " ('fabric', 4685),\n",
       " ('small', 4389),\n",
       " ('color', 4380),\n",
       " ('look', 3928),\n",
       " ('really', 3810),\n",
       " ('little', 3757),\n",
       " ('ordered', 3748),\n",
       " ('perfect', 3481),\n",
       " ('one', 3436),\n",
       " ('flattering', 3312),\n",
       " ('soft', 3213),\n",
       " ('well', 3009),\n",
       " ('comfortable', 2881),\n",
       " ('nice', 2870),\n",
       " ('bit', 2842),\n",
       " ('bought', 2836),\n",
       " ('looks', 2812),\n",
       " ('fits', 2790),\n",
       " ('back', 2787),\n",
       " ('cute', 2774)]"
      ]
     },
     "execution_count": 30,
     "metadata": {},
     "output_type": "execute_result"
    }
   ],
   "source": [
    "#only keep the words that not in nltk stopwords word list\n",
    "words_nostopwords = [w for w in words2 if w not in stopwords]\n",
    "#generate a frequency dictionary for all tokens \n",
    "freq_nostw = FreqDist(words_nostopwords)\n",
    "#sort the frequency list in decending order\n",
    "sorted_freq_nostw = sorted(freq_nostw.items(),key = lambda k:k[1], reverse = True)\n",
    "sorted_freq_nostw[:30] "
   ]
  },
  {
   "cell_type": "code",
   "execution_count": 31,
   "metadata": {},
   "outputs": [],
   "source": [
    "#from pandas import DataFrame\n",
    "#newvariable = DataFrame(sorted_freq_nostw)\n",
    "#newvariable.to_csv('frequent.csv')"
   ]
  },
  {
   "cell_type": "code",
   "execution_count": 32,
   "metadata": {},
   "outputs": [],
   "source": [
    "sw=open (r'C:\\Users\\mashu\\Desktop\\STUDY RESOURCES\\Text Analysis\\Project/mystopwords.txt')\n",
    "mysw=sw.read()\n",
    "mystopwords=mysw.split('\\n')"
   ]
  },
  {
   "cell_type": "code",
   "execution_count": 33,
   "metadata": {},
   "outputs": [
    {
     "data": {
      "text/plain": [
       "[('dress', 10137),\n",
       " ('size', 8416),\n",
       " ('love', 7734),\n",
       " ('top', 7098),\n",
       " ('fit', 7040),\n",
       " ('like', 6886),\n",
       " ('wear', 6318),\n",
       " ('great', 5587),\n",
       " ('fabric', 4685),\n",
       " ('small', 4389),\n",
       " ('color', 4380),\n",
       " ('look', 3928),\n",
       " ('really', 3810),\n",
       " ('little', 3757),\n",
       " ('ordered', 3748),\n",
       " ('perfect', 3481),\n",
       " ('flattering', 3312),\n",
       " ('soft', 3213),\n",
       " ('well', 3009),\n",
       " ('comfortable', 2881),\n",
       " ('nice', 2870),\n",
       " ('looks', 2812),\n",
       " ('fits', 2790),\n",
       " ('back', 2787),\n",
       " ('cute', 2774),\n",
       " ('large', 2706),\n",
       " ('material', 2675),\n",
       " ('beautiful', 2640),\n",
       " ('length', 2538),\n",
       " ('shirt', 2465)]"
      ]
     },
     "execution_count": 33,
     "metadata": {},
     "output_type": "execute_result"
    }
   ],
   "source": [
    "#only keep the words that not in nltk stopwords word list\n",
    "words_nostopwords1 = [w for w in words_nostopwords if w not in mystopwords]\n",
    "#generate a frequency dictionary for all tokens \n",
    "freq_nostw1 = FreqDist(words_nostopwords1)\n",
    "#sort the frequency list in decending order\n",
    "sorted_freq_nostw1 = sorted(freq_nostw1.items(),key = lambda k:k[1], reverse = True)\n",
    "sorted_freq_nostw1[:30] "
   ]
  },
  {
   "cell_type": "code",
   "execution_count": 34,
   "metadata": {},
   "outputs": [],
   "source": [
    "#sort_freq = DataFrame(sorted_freq_nostw)\n",
    "#sort_freq.to_csv('sort_frequent.csv')"
   ]
  },
  {
   "cell_type": "code",
   "execution_count": 35,
   "metadata": {},
   "outputs": [
    {
     "data": {
      "text/plain": [
       "[(('size', 'NN'), 8416),\n",
       " (('dress', 'NN'), 8219),\n",
       " (('color', 'NN'), 4183),\n",
       " (('love', 'NN'), 3586),\n",
       " (('fit', 'NN'), 3010),\n",
       " (('look', 'NN'), 2552),\n",
       " (('colors', 'NNS'), 2174),\n",
       " (('jeans', 'NNS'), 2173),\n",
       " (('length', 'NN'), 2053),\n",
       " (('fabric', 'NN'), 2036),\n",
       " (('shirt', 'NN'), 2026),\n",
       " (('fits', 'NNS'), 1970),\n",
       " (('material', 'NN'), 1936),\n",
       " (('sweater', 'NN'), 1881),\n",
       " (('pants', 'NNS'), 1774),\n",
       " (('work', 'NN'), 1675),\n",
       " (('store', 'NN'), 1668),\n",
       " (('retailer', 'NN'), 1667),\n",
       " (('skirt', 'NN'), 1535),\n",
       " (('cute', 'NN'), 1457),\n",
       " (('waist', 'NN'), 1422),\n",
       " (('design', 'NN'), 1340),\n",
       " (('summer', 'NN'), 1313),\n",
       " (('top', 'NN'), 1259),\n",
       " (('wear', 'NN'), 1252),\n",
       " (('sale', 'NN'), 1175),\n",
       " (('price', 'NN'), 1092),\n",
       " (('jacket', 'NN'), 1076),\n",
       " (('model', 'NN'), 1070),\n",
       " (('time', 'NN'), 1047)]"
      ]
     },
     "execution_count": 35,
     "metadata": {},
     "output_type": "execute_result"
    }
   ],
   "source": [
    "POS_tags = nltk.pos_tag(words_nostopwords1) \n",
    "\n",
    "#Generate a list of POS tags\n",
    "POS_tag_list = [(word,tag) for (word,tag) in POS_tags if tag.startswith('N')]\n",
    "#Generate a frequency distribution of all the POS tags\n",
    "tag_freq = nltk.FreqDist(POS_tag_list)\n",
    "#Sort the result \n",
    "sorted_tag_freq = sorted(tag_freq.items(), key = lambda k:k[1], reverse = True)\n",
    "sorted_tag_freq[:30]"
   ]
  },
  {
   "cell_type": "code",
   "execution_count": 41,
   "metadata": {},
   "outputs": [],
   "source": [
    "from pandas import DataFrame as df\n",
    "sort_freq1 = df(sorted_tag_freq)\n",
    "sort_freq1.to_csv('postag1.csv')"
   ]
  },
  {
   "cell_type": "code",
   "execution_count": null,
   "metadata": {},
   "outputs": [],
   "source": []
  }
 ],
 "metadata": {
  "kernelspec": {
   "display_name": "Python 3",
   "language": "python",
   "name": "python3"
  },
  "language_info": {
   "codemirror_mode": {
    "name": "ipython",
    "version": 3
   },
   "file_extension": ".py",
   "mimetype": "text/x-python",
   "name": "python",
   "nbconvert_exporter": "python",
   "pygments_lexer": "ipython3",
   "version": "3.5.0"
  }
 },
 "nbformat": 4,
 "nbformat_minor": 2
}
